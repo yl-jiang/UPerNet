{
 "cells": [
  {
   "cell_type": "code",
   "execution_count": 1,
   "metadata": {},
   "outputs": [
    {
     "name": "stderr",
     "output_type": "stream",
     "text": [
      "/home/uih/anaconda3/envs/torch1.7/lib/python3.7/site-packages/tqdm/auto.py:22: TqdmWarning: IProgress not found. Please update jupyter and ipywidgets. See https://ipywidgets.readthedocs.io/en/stable/user_install.html\n",
      "  from .autonotebook import tqdm as notebook_tqdm\n"
     ]
    }
   ],
   "source": [
    "import torch\n",
    "import torch.nn.functional as F"
   ]
  },
  {
   "cell_type": "code",
   "execution_count": 7,
   "metadata": {},
   "outputs": [],
   "source": [
    "gt_seg = torch.zeros(2, 4, 4)\n",
    "gt_seg[0, 0, 0] = 2\n",
    "gt_seg[1, 0, 1] = 3\n",
    "num_class = 5\n",
    "\n",
    "onehot_seg = F.one_hot(gt_seg.long(), num_classes=num_class)  # (bs, h, w, num_class)\n",
    "# onehot_seg = onehot_seg.permute((0, 3, 1, 2))  # (bs, num_class, h, w)"
   ]
  },
  {
   "cell_type": "code",
   "execution_count": 8,
   "metadata": {},
   "outputs": [
    {
     "data": {
      "text/plain": [
       "tensor([[[[0, 0, 1, 0, 0],\n",
       "          [1, 0, 0, 0, 0],\n",
       "          [1, 0, 0, 0, 0],\n",
       "          [1, 0, 0, 0, 0]],\n",
       "\n",
       "         [[1, 0, 0, 0, 0],\n",
       "          [1, 0, 0, 0, 0],\n",
       "          [1, 0, 0, 0, 0],\n",
       "          [1, 0, 0, 0, 0]],\n",
       "\n",
       "         [[1, 0, 0, 0, 0],\n",
       "          [1, 0, 0, 0, 0],\n",
       "          [1, 0, 0, 0, 0],\n",
       "          [1, 0, 0, 0, 0]],\n",
       "\n",
       "         [[1, 0, 0, 0, 0],\n",
       "          [1, 0, 0, 0, 0],\n",
       "          [1, 0, 0, 0, 0],\n",
       "          [1, 0, 0, 0, 0]]],\n",
       "\n",
       "\n",
       "        [[[1, 0, 0, 0, 0],\n",
       "          [0, 0, 0, 1, 0],\n",
       "          [1, 0, 0, 0, 0],\n",
       "          [1, 0, 0, 0, 0]],\n",
       "\n",
       "         [[1, 0, 0, 0, 0],\n",
       "          [1, 0, 0, 0, 0],\n",
       "          [1, 0, 0, 0, 0],\n",
       "          [1, 0, 0, 0, 0]],\n",
       "\n",
       "         [[1, 0, 0, 0, 0],\n",
       "          [1, 0, 0, 0, 0],\n",
       "          [1, 0, 0, 0, 0],\n",
       "          [1, 0, 0, 0, 0]],\n",
       "\n",
       "         [[1, 0, 0, 0, 0],\n",
       "          [1, 0, 0, 0, 0],\n",
       "          [1, 0, 0, 0, 0],\n",
       "          [1, 0, 0, 0, 0]]]])"
      ]
     },
     "execution_count": 8,
     "metadata": {},
     "output_type": "execute_result"
    }
   ],
   "source": [
    "onehot_seg"
   ]
  },
  {
   "cell_type": "code",
   "execution_count": null,
   "metadata": {},
   "outputs": [],
   "source": []
  }
 ],
 "metadata": {
  "kernelspec": {
   "display_name": "Python 3.7.12 ('torch1.7')",
   "language": "python",
   "name": "python3"
  },
  "language_info": {
   "codemirror_mode": {
    "name": "ipython",
    "version": 3
   },
   "file_extension": ".py",
   "mimetype": "text/x-python",
   "name": "python",
   "nbconvert_exporter": "python",
   "pygments_lexer": "ipython3",
   "version": "3.7.12"
  },
  "orig_nbformat": 4,
  "vscode": {
   "interpreter": {
    "hash": "18a39dc18bce00359355eb43878a2d26e2d138607c7563218c9c0938077172ca"
   }
  }
 },
 "nbformat": 4,
 "nbformat_minor": 2
}
